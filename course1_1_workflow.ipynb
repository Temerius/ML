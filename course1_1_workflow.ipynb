{
  "nbformat": 4,
  "nbformat_minor": 0,
  "metadata": {
    "colab": {
      "provenance": [],
      "gpuType": "T4",
      "authorship_tag": "ABX9TyMfyzeYKodDw/ZmIK104R6/",
      "include_colab_link": true
    },
    "kernelspec": {
      "name": "python3",
      "display_name": "Python 3"
    },
    "language_info": {
      "name": "python"
    },
    "accelerator": "GPU"
  },
  "cells": [
    {
      "cell_type": "markdown",
      "metadata": {
        "id": "view-in-github",
        "colab_type": "text"
      },
      "source": [
        "<a href=\"https://colab.research.google.com/github/Temerius/ML/blob/main/course1_1_workflow.ipynb\" target=\"_parent\"><img src=\"https://colab.research.google.com/assets/colab-badge.svg\" alt=\"Open In Colab\"/></a>"
      ]
    },
    {
      "cell_type": "code",
      "execution_count": null,
      "metadata": {
        "id": "ApTm197efDxI"
      },
      "outputs": [],
      "source": [
        "import torch\n",
        "import numpy as np\n",
        "from torch import nn\n",
        "import matplotlib.pyplot as plt\n",
        "import random\n",
        "import tqdm\n",
        "from pathlib import Path"
      ]
    },
    {
      "cell_type": "code",
      "source": [
        "device = 'cuda' if torch.cuda.is_available() else 'cpu'"
      ],
      "metadata": {
        "id": "jUk96uxwf92g"
      },
      "execution_count": null,
      "outputs": []
    },
    {
      "cell_type": "code",
      "source": [
        "weight = 0.25\n",
        "bias = 0.6\n",
        "\n",
        "X = torch.arange(0, 1, 0.01)\n",
        "y = weight * X + bias"
      ],
      "metadata": {
        "id": "-M3VtdDMgeVB"
      },
      "execution_count": null,
      "outputs": []
    },
    {
      "cell_type": "code",
      "source": [
        "X,y"
      ],
      "metadata": {
        "colab": {
          "base_uri": "https://localhost:8080/"
        },
        "id": "0svyGjCKg7oa",
        "outputId": "813b3186-a9a7-491e-fb4b-8de3438ae208"
      },
      "execution_count": null,
      "outputs": [
        {
          "output_type": "execute_result",
          "data": {
            "text/plain": [
              "(tensor([0.0000, 0.0100, 0.0200, 0.0300, 0.0400, 0.0500, 0.0600, 0.0700, 0.0800,\n",
              "         0.0900, 0.1000, 0.1100, 0.1200, 0.1300, 0.1400, 0.1500, 0.1600, 0.1700,\n",
              "         0.1800, 0.1900, 0.2000, 0.2100, 0.2200, 0.2300, 0.2400, 0.2500, 0.2600,\n",
              "         0.2700, 0.2800, 0.2900, 0.3000, 0.3100, 0.3200, 0.3300, 0.3400, 0.3500,\n",
              "         0.3600, 0.3700, 0.3800, 0.3900, 0.4000, 0.4100, 0.4200, 0.4300, 0.4400,\n",
              "         0.4500, 0.4600, 0.4700, 0.4800, 0.4900, 0.5000, 0.5100, 0.5200, 0.5300,\n",
              "         0.5400, 0.5500, 0.5600, 0.5700, 0.5800, 0.5900, 0.6000, 0.6100, 0.6200,\n",
              "         0.6300, 0.6400, 0.6500, 0.6600, 0.6700, 0.6800, 0.6900, 0.7000, 0.7100,\n",
              "         0.7200, 0.7300, 0.7400, 0.7500, 0.7600, 0.7700, 0.7800, 0.7900, 0.8000,\n",
              "         0.8100, 0.8200, 0.8300, 0.8400, 0.8500, 0.8600, 0.8700, 0.8800, 0.8900,\n",
              "         0.9000, 0.9100, 0.9200, 0.9300, 0.9400, 0.9500, 0.9600, 0.9700, 0.9800,\n",
              "         0.9900]),\n",
              " tensor([0.6000, 0.6025, 0.6050, 0.6075, 0.6100, 0.6125, 0.6150, 0.6175, 0.6200,\n",
              "         0.6225, 0.6250, 0.6275, 0.6300, 0.6325, 0.6350, 0.6375, 0.6400, 0.6425,\n",
              "         0.6450, 0.6475, 0.6500, 0.6525, 0.6550, 0.6575, 0.6600, 0.6625, 0.6650,\n",
              "         0.6675, 0.6700, 0.6725, 0.6750, 0.6775, 0.6800, 0.6825, 0.6850, 0.6875,\n",
              "         0.6900, 0.6925, 0.6950, 0.6975, 0.7000, 0.7025, 0.7050, 0.7075, 0.7100,\n",
              "         0.7125, 0.7150, 0.7175, 0.7200, 0.7225, 0.7250, 0.7275, 0.7300, 0.7325,\n",
              "         0.7350, 0.7375, 0.7400, 0.7425, 0.7450, 0.7475, 0.7500, 0.7525, 0.7550,\n",
              "         0.7575, 0.7600, 0.7625, 0.7650, 0.7675, 0.7700, 0.7725, 0.7750, 0.7775,\n",
              "         0.7800, 0.7825, 0.7850, 0.7875, 0.7900, 0.7925, 0.7950, 0.7975, 0.8000,\n",
              "         0.8025, 0.8050, 0.8075, 0.8100, 0.8125, 0.8150, 0.8175, 0.8200, 0.8225,\n",
              "         0.8250, 0.8275, 0.8300, 0.8325, 0.8350, 0.8375, 0.8400, 0.8425, 0.8450,\n",
              "         0.8475]))"
            ]
          },
          "metadata": {},
          "execution_count": 4
        }
      ]
    },
    {
      "cell_type": "code",
      "source": [
        "X.shape, y.shape"
      ],
      "metadata": {
        "colab": {
          "base_uri": "https://localhost:8080/"
        },
        "id": "1lQ8GlEdg8yL",
        "outputId": "ff3ab4c9-33ba-4f9c-d995-7e4b0b4d7dc5"
      },
      "execution_count": null,
      "outputs": [
        {
          "output_type": "execute_result",
          "data": {
            "text/plain": [
              "(torch.Size([100]), torch.Size([100]))"
            ]
          },
          "metadata": {},
          "execution_count": 5
        }
      ]
    },
    {
      "cell_type": "code",
      "source": [
        "train_size = int(len(X)*0.8)\n",
        "X_train = X[:train_size]\n",
        "y_train = y[:train_size]\n",
        "X_train, y_train"
      ],
      "metadata": {
        "colab": {
          "base_uri": "https://localhost:8080/"
        },
        "id": "65mHIwazhMXM",
        "outputId": "7ec5de4d-6e52-4add-e5e5-26298b02acec"
      },
      "execution_count": null,
      "outputs": [
        {
          "output_type": "execute_result",
          "data": {
            "text/plain": [
              "(tensor([0.0000, 0.0100, 0.0200, 0.0300, 0.0400, 0.0500, 0.0600, 0.0700, 0.0800,\n",
              "         0.0900, 0.1000, 0.1100, 0.1200, 0.1300, 0.1400, 0.1500, 0.1600, 0.1700,\n",
              "         0.1800, 0.1900, 0.2000, 0.2100, 0.2200, 0.2300, 0.2400, 0.2500, 0.2600,\n",
              "         0.2700, 0.2800, 0.2900, 0.3000, 0.3100, 0.3200, 0.3300, 0.3400, 0.3500,\n",
              "         0.3600, 0.3700, 0.3800, 0.3900, 0.4000, 0.4100, 0.4200, 0.4300, 0.4400,\n",
              "         0.4500, 0.4600, 0.4700, 0.4800, 0.4900, 0.5000, 0.5100, 0.5200, 0.5300,\n",
              "         0.5400, 0.5500, 0.5600, 0.5700, 0.5800, 0.5900, 0.6000, 0.6100, 0.6200,\n",
              "         0.6300, 0.6400, 0.6500, 0.6600, 0.6700, 0.6800, 0.6900, 0.7000, 0.7100,\n",
              "         0.7200, 0.7300, 0.7400, 0.7500, 0.7600, 0.7700, 0.7800, 0.7900]),\n",
              " tensor([0.6000, 0.6025, 0.6050, 0.6075, 0.6100, 0.6125, 0.6150, 0.6175, 0.6200,\n",
              "         0.6225, 0.6250, 0.6275, 0.6300, 0.6325, 0.6350, 0.6375, 0.6400, 0.6425,\n",
              "         0.6450, 0.6475, 0.6500, 0.6525, 0.6550, 0.6575, 0.6600, 0.6625, 0.6650,\n",
              "         0.6675, 0.6700, 0.6725, 0.6750, 0.6775, 0.6800, 0.6825, 0.6850, 0.6875,\n",
              "         0.6900, 0.6925, 0.6950, 0.6975, 0.7000, 0.7025, 0.7050, 0.7075, 0.7100,\n",
              "         0.7125, 0.7150, 0.7175, 0.7200, 0.7225, 0.7250, 0.7275, 0.7300, 0.7325,\n",
              "         0.7350, 0.7375, 0.7400, 0.7425, 0.7450, 0.7475, 0.7500, 0.7525, 0.7550,\n",
              "         0.7575, 0.7600, 0.7625, 0.7650, 0.7675, 0.7700, 0.7725, 0.7750, 0.7775,\n",
              "         0.7800, 0.7825, 0.7850, 0.7875, 0.7900, 0.7925, 0.7950, 0.7975]))"
            ]
          },
          "metadata": {},
          "execution_count": 6
        }
      ]
    },
    {
      "cell_type": "code",
      "source": [
        "X_test = X[train_size:]\n",
        "y_test = y[train_size:]\n",
        "X_test, y_test"
      ],
      "metadata": {
        "colab": {
          "base_uri": "https://localhost:8080/"
        },
        "id": "CieHUT_RhdCN",
        "outputId": "f7f3dcaf-6daf-4312-ff41-a6ac26fa25a3"
      },
      "execution_count": null,
      "outputs": [
        {
          "output_type": "execute_result",
          "data": {
            "text/plain": [
              "(tensor([0.8000, 0.8100, 0.8200, 0.8300, 0.8400, 0.8500, 0.8600, 0.8700, 0.8800,\n",
              "         0.8900, 0.9000, 0.9100, 0.9200, 0.9300, 0.9400, 0.9500, 0.9600, 0.9700,\n",
              "         0.9800, 0.9900]),\n",
              " tensor([0.8000, 0.8025, 0.8050, 0.8075, 0.8100, 0.8125, 0.8150, 0.8175, 0.8200,\n",
              "         0.8225, 0.8250, 0.8275, 0.8300, 0.8325, 0.8350, 0.8375, 0.8400, 0.8425,\n",
              "         0.8450, 0.8475]))"
            ]
          },
          "metadata": {},
          "execution_count": 7
        }
      ]
    },
    {
      "cell_type": "code",
      "source": [
        "def visualize(xtrain = X_train, ytrain = y_train, xtest = X_test, ytest = y_test, prediction = None):\n",
        "    plt.scatter(xtrain, ytrain, c = 'b', s = 3, label = 'Train')\n",
        "\n",
        "\n",
        "    plt.scatter(xtest, ytest, c = 'g', s = 3, label = 'Test')\n",
        "\n",
        "    if prediction != None:\n",
        "        plt.scatter(xtest, prediction, c = 'r', s = 3, label = 'Prediction')\n",
        "\n",
        "    plt.legend(prop = {'size': 16})"
      ],
      "metadata": {
        "id": "4QTyphUniWN9"
      },
      "execution_count": null,
      "outputs": []
    },
    {
      "cell_type": "code",
      "source": [
        "visualize()"
      ],
      "metadata": {
        "colab": {
          "base_uri": "https://localhost:8080/",
          "height": 430
        },
        "id": "w8BQaBSolOYS",
        "outputId": "300a5c79-3a39-4a30-faca-53d146bb4a70"
      },
      "execution_count": null,
      "outputs": [
        {
          "output_type": "display_data",
          "data": {
            "text/plain": [
              "<Figure size 640x480 with 1 Axes>"
            ],
            "image/png": "[encoded data removed]"
          },
          "metadata": {}
        }
      ]
    },
    {
      "cell_type": "code",
      "source": [
        "class LinearRegression (nn.Module):\n",
        "    def __init__(self):\n",
        "        super().__init__()\n",
        "\n",
        "        self.weights = nn.Parameter(torch.randn(1),\n",
        "                                    requires_grad=True,\n",
        "                                    )\n",
        "        self.bias = nn.Parameter(torch.randn(1),\n",
        "                                    requires_grad=True,\n",
        "                                    )\n",
        "    def forward(self, x: torch.Tensor):\n",
        "        return self.weights * x + self.bias"
      ],
      "metadata": {
        "id": "v_6X6jmzlVkp"
      },
      "execution_count": null,
      "outputs": []
    },
    {
      "cell_type": "code",
      "source": [
        "model_0 = LinearRegression()\n",
        "print(model_0.state_dict())\n",
        "print(weight, bias)"
      ],
      "metadata": {
        "colab": {
          "base_uri": "https://localhost:8080/"
        },
        "id": "pGX88YpnmaBf",
        "outputId": "1dcd34c5-c160-4503-c5d8-7c0729994551"
      },
      "execution_count": null,
      "outputs": [
        {
          "output_type": "stream",
          "name": "stdout",
          "text": [
            "OrderedDict([('weights', tensor([-1.0157])), ('bias', tensor([-0.8887]))])\n",
            "0.25 0.6\n"
          ]
        }
      ]
    },
    {
      "cell_type": "code",
      "source": [
        "with torch.inference_mode():\n",
        "    prediction = model_0(X_test)\n",
        "prediction.unsqueeze(dim = 1), y_test.unsqueeze(dim = 1)"
      ],
      "metadata": {
        "colab": {
          "base_uri": "https://localhost:8080/"
        },
        "id": "vMErLI7HKACT",
        "outputId": "a29cd120-a783-4ccf-87db-0a7b7e31075d"
      },
      "execution_count": null,
      "outputs": [
        {
          "output_type": "execute_result",
          "data": {
            "text/plain": [
              "(tensor([[-1.7013],\n",
              "         [-1.7114],\n",
              "         [-1.7216],\n",
              "         [-1.7318],\n",
              "         [-1.7419],\n",
              "         [-1.7521],\n",
              "         [-1.7622],\n",
              "         [-1.7724],\n",
              "         [-1.7825],\n",
              "         [-1.7927],\n",
              "         [-1.8029],\n",
              "         [-1.8130],\n",
              "         [-1.8232],\n",
              "         [-1.8333],\n",
              "         [-1.8435],\n",
              "         [-1.8536],\n",
              "         [-1.8638],\n",
              "         [-1.8740],\n",
              "         [-1.8841],\n",
              "         [-1.8943]]),\n",
              " tensor([[0.8000],\n",
              "         [0.8025],\n",
              "         [0.8050],\n",
              "         [0.8075],\n",
              "         [0.8100],\n",
              "         [0.8125],\n",
              "         [0.8150],\n",
              "         [0.8175],\n",
              "         [0.8200],\n",
              "         [0.8225],\n",
              "         [0.8250],\n",
              "         [0.8275],\n",
              "         [0.8300],\n",
              "         [0.8325],\n",
              "         [0.8350],\n",
              "         [0.8375],\n",
              "         [0.8400],\n",
              "         [0.8425],\n",
              "         [0.8450],\n",
              "         [0.8475]]))"
            ]
          },
          "metadata": {},
          "execution_count": 88
        }
      ]
    },
    {
      "cell_type": "code",
      "source": [
        "visualize(prediction = prediction)"
      ],
      "metadata": {
        "colab": {
          "base_uri": "https://localhost:8080/",
          "height": 430
        },
        "id": "uokiNBmKOkms",
        "outputId": "4ae61b57-f4cd-42cd-9175-d2a7b281aced"
      },
      "execution_count": null,
      "outputs": [
        {
          "output_type": "display_data",
          "data": {
            "text/plain": [
              "<Figure size 640x480 with 1 Axes>"
            ],
            "image/png": "[encoded data removed]"
          },
          "metadata": {}
        }
      ]
    },
    {
      "cell_type": "code",
      "source": [
        "loss_fn = nn.L1Loss()\n",
        "optimizer = torch.optim.SGD(params = model_0.parameters(),\n",
        "                            lr = 0.005)"
      ],
      "metadata": {
        "id": "ImGKhx-TroX4"
      },
      "execution_count": null,
      "outputs": []
    },
    {
      "cell_type": "code",
      "source": [
        "# Train loop\n",
        "torch.manual_seed(42)\n",
        "\n",
        "epoch_arr = []\n",
        "loss_arr = []\n",
        "test_loss_arr = []\n",
        "\n",
        "epochs = 1000\n",
        "\n",
        "\n",
        "for epoch in tqdm.tqdm(range(epochs)):\n",
        "\n",
        "\n",
        "\n",
        "    #train part\n",
        "    model_0.train()\n",
        "\n",
        "    y_pred = model_0(X_train)\n",
        "\n",
        "    loss = loss_fn(y_pred, y_train)\n",
        "\n",
        "    optimizer.zero_grad()\n",
        "\n",
        "    loss.backward()\n",
        "\n",
        "    optimizer.step()\n",
        "\n",
        "    # test part\n",
        "\n",
        "\n",
        "    if epoch % 10 == 0:\n",
        "\n",
        "        model_0.eval()\n",
        "\n",
        "        with torch.inference_mode():\n",
        "            y_pred = model_0(X_test)\n",
        "\n",
        "        test_loss = loss_fn(y_pred,y_test)\n",
        "\n",
        "        epoch_arr.append(epoch)\n",
        "        loss_arr.append(loss)\n",
        "        test_loss_arr.append(test_loss)\n",
        "\n",
        "        print(f'epoch: {epoch}, parameters: {model_0.state_dict()}')\n",
        "\n",
        "\n",
        "\n",
        "\n"
      ],
      "metadata": {
        "colab": {
          "base_uri": "https://localhost:8080/"
        },
        "id": "WklEWtV7O0vS",
        "outputId": "9aa8c8d6-c524-4110-a32d-a6f18e478210"
      },
      "execution_count": null,
      "outputs": [
        {
          "output_type": "stream",
          "name": "stderr",
          "text": [
            " 29%|██▉       | 289/1000 [00:00<00:00, 1443.29it/s]"
          ]
        },
        {
          "output_type": "stream",
          "name": "stdout",
          "text": [
            "epoch: 0, parameters: OrderedDict([('weights', tensor([-1.0137])), ('bias', tensor([-0.8837]))])\n",
            "epoch: 10, parameters: OrderedDict([('weights', tensor([-0.9939])), ('bias', tensor([-0.8337]))])\n",
            "epoch: 20, parameters: OrderedDict([('weights', tensor([-0.9742])), ('bias', tensor([-0.7837]))])\n",
            "epoch: 30, parameters: OrderedDict([('weights', tensor([-0.9544])), ('bias', tensor([-0.7337]))])\n",
            "epoch: 40, parameters: OrderedDict([('weights', tensor([-0.9347])), ('bias', tensor([-0.6837]))])\n",
            "epoch: 50, parameters: OrderedDict([('weights', tensor([-0.9149])), ('bias', tensor([-0.6337]))])\n",
            "epoch: 60, parameters: OrderedDict([('weights', tensor([-0.8952])), ('bias', tensor([-0.5837]))])\n",
            "epoch: 70, parameters: OrderedDict([('weights', tensor([-0.8754])), ('bias', tensor([-0.5337]))])\n",
            "epoch: 80, parameters: OrderedDict([('weights', tensor([-0.8557])), ('bias', tensor([-0.4837]))])\n",
            "epoch: 90, parameters: OrderedDict([('weights', tensor([-0.8359])), ('bias', tensor([-0.4337]))])\n",
            "epoch: 100, parameters: OrderedDict([('weights', tensor([-0.8162])), ('bias', tensor([-0.3837]))])\n",
            "epoch: 110, parameters: OrderedDict([('weights', tensor([-0.7964])), ('bias', tensor([-0.3337]))])\n",
            "epoch: 120, parameters: OrderedDict([('weights', tensor([-0.7767])), ('bias', tensor([-0.2837]))])\n",
            "epoch: 130, parameters: OrderedDict([('weights', tensor([-0.7569])), ('bias', tensor([-0.2337]))])\n",
            "epoch: 140, parameters: OrderedDict([('weights', tensor([-0.7372])), ('bias', tensor([-0.1837]))])\n",
            "epoch: 150, parameters: OrderedDict([('weights', tensor([-0.7174])), ('bias', tensor([-0.1337]))])\n",
            "epoch: 160, parameters: OrderedDict([('weights', tensor([-0.6977])), ('bias', tensor([-0.0837]))])\n",
            "epoch: 170, parameters: OrderedDict([('weights', tensor([-0.6779])), ('bias', tensor([-0.0337]))])\n",
            "epoch: 180, parameters: OrderedDict([('weights', tensor([-0.6582])), ('bias', tensor([0.0163]))])\n",
            "epoch: 190, parameters: OrderedDict([('weights', tensor([-0.6384])), ('bias', tensor([0.0663]))])\n",
            "epoch: 200, parameters: OrderedDict([('weights', tensor([-0.6187])), ('bias', tensor([0.1163]))])\n",
            "epoch: 210, parameters: OrderedDict([('weights', tensor([-0.5989])), ('bias', tensor([0.1663]))])\n",
            "epoch: 220, parameters: OrderedDict([('weights', tensor([-0.5792])), ('bias', tensor([0.2163]))])\n",
            "epoch: 230, parameters: OrderedDict([('weights', tensor([-0.5594])), ('bias', tensor([0.2663]))])\n",
            "epoch: 240, parameters: OrderedDict([('weights', tensor([-0.5397])), ('bias', tensor([0.3163]))])\n",
            "epoch: 250, parameters: OrderedDict([('weights', tensor([-0.5199])), ('bias', tensor([0.3663]))])\n",
            "epoch: 260, parameters: OrderedDict([('weights', tensor([-0.5002])), ('bias', tensor([0.4163]))])\n",
            "epoch: 270, parameters: OrderedDict([('weights', tensor([-0.4804])), ('bias', tensor([0.4663]))])\n",
            "epoch: 280, parameters: OrderedDict([('weights', tensor([-0.4607])), ('bias', tensor([0.5163]))])\n"
          ]
        },
        {
          "output_type": "stream",
          "name": "stderr",
          "text": [
            " 59%|█████▉    | 593/1000 [00:00<00:00, 1491.17it/s]"
          ]
        },
        {
          "output_type": "stream",
          "name": "stdout",
          "text": [
            "epoch: 290, parameters: OrderedDict([('weights', tensor([-0.4409])), ('bias', tensor([0.5663]))])\n",
            "epoch: 300, parameters: OrderedDict([('weights', tensor([-0.4212])), ('bias', tensor([0.6158]))])\n",
            "epoch: 310, parameters: OrderedDict([('weights', tensor([-0.4017])), ('bias', tensor([0.6583]))])\n",
            "epoch: 320, parameters: OrderedDict([('weights', tensor([-0.3828])), ('bias', tensor([0.6931]))])\n",
            "epoch: 330, parameters: OrderedDict([('weights', tensor([-0.3648])), ('bias', tensor([0.7213]))])\n",
            "epoch: 340, parameters: OrderedDict([('weights', tensor([-0.3480])), ('bias', tensor([0.7435]))])\n",
            "epoch: 350, parameters: OrderedDict([('weights', tensor([-0.3324])), ('bias', tensor([0.7609]))])\n",
            "epoch: 360, parameters: OrderedDict([('weights', tensor([-0.3179])), ('bias', tensor([0.7740]))])\n",
            "epoch: 370, parameters: OrderedDict([('weights', tensor([-0.3044])), ('bias', tensor([0.7838]))])\n",
            "epoch: 380, parameters: OrderedDict([('weights', tensor([-0.2919])), ('bias', tensor([0.7906]))])\n",
            "epoch: 390, parameters: OrderedDict([('weights', tensor([-0.2803])), ('bias', tensor([0.7950]))])\n",
            "epoch: 400, parameters: OrderedDict([('weights', tensor([-0.2692])), ('bias', tensor([0.7978]))])\n",
            "epoch: 410, parameters: OrderedDict([('weights', tensor([-0.2588])), ('bias', tensor([0.7989]))])\n",
            "epoch: 420, parameters: OrderedDict([('weights', tensor([-0.2488])), ('bias', tensor([0.7989]))])\n",
            "epoch: 430, parameters: OrderedDict([('weights', tensor([-0.2392])), ('bias', tensor([0.7979]))])\n",
            "epoch: 440, parameters: OrderedDict([('weights', tensor([-0.2297])), ('bias', tensor([0.7966]))])\n",
            "epoch: 450, parameters: OrderedDict([('weights', tensor([-0.2206])), ('bias', tensor([0.7943]))])\n",
            "epoch: 460, parameters: OrderedDict([('weights', tensor([-0.2116])), ('bias', tensor([0.7918]))])\n",
            "epoch: 470, parameters: OrderedDict([('weights', tensor([-0.2027])), ('bias', tensor([0.7893]))])\n",
            "epoch: 480, parameters: OrderedDict([('weights', tensor([-0.1938])), ('bias', tensor([0.7865]))])\n",
            "epoch: 490, parameters: OrderedDict([('weights', tensor([-0.1853])), ('bias', tensor([0.7829]))])\n",
            "epoch: 500, parameters: OrderedDict([('weights', tensor([-0.1767])), ('bias', tensor([0.7793]))])\n",
            "epoch: 510, parameters: OrderedDict([('weights', tensor([-0.1682])), ('bias', tensor([0.7758]))])\n",
            "epoch: 520, parameters: OrderedDict([('weights', tensor([-0.1597])), ('bias', tensor([0.7721]))])\n",
            "epoch: 530, parameters: OrderedDict([('weights', tensor([-0.1511])), ('bias', tensor([0.7685]))])\n",
            "epoch: 540, parameters: OrderedDict([('weights', tensor([-0.1426])), ('bias', tensor([0.7650]))])\n",
            "epoch: 550, parameters: OrderedDict([('weights', tensor([-0.1341])), ('bias', tensor([0.7614]))])\n",
            "epoch: 560, parameters: OrderedDict([('weights', tensor([-0.1255])), ('bias', tensor([0.7578]))])\n",
            "epoch: 570, parameters: OrderedDict([('weights', tensor([-0.1170])), ('bias', tensor([0.7543]))])\n",
            "epoch: 580, parameters: OrderedDict([('weights', tensor([-0.1085])), ('bias', tensor([0.7506]))])\n",
            "epoch: 590, parameters: OrderedDict([('weights', tensor([-0.0999])), ('bias', tensor([0.7470]))])\n"
          ]
        },
        {
          "output_type": "stream",
          "name": "stderr",
          "text": [
            " 90%|█████████ | 902/1000 [00:00<00:00, 1518.08it/s]"
          ]
        },
        {
          "output_type": "stream",
          "name": "stdout",
          "text": [
            "epoch: 600, parameters: OrderedDict([('weights', tensor([-0.0914])), ('bias', tensor([0.7435]))])\n",
            "epoch: 610, parameters: OrderedDict([('weights', tensor([-0.0829])), ('bias', tensor([0.7399]))])\n",
            "epoch: 620, parameters: OrderedDict([('weights', tensor([-0.0744])), ('bias', tensor([0.7363]))])\n",
            "epoch: 630, parameters: OrderedDict([('weights', tensor([-0.0658])), ('bias', tensor([0.7328]))])\n",
            "epoch: 640, parameters: OrderedDict([('weights', tensor([-0.0573])), ('bias', tensor([0.7291]))])\n",
            "epoch: 650, parameters: OrderedDict([('weights', tensor([-0.0488])), ('bias', tensor([0.7255]))])\n",
            "epoch: 660, parameters: OrderedDict([('weights', tensor([-0.0402])), ('bias', tensor([0.7220]))])\n",
            "epoch: 670, parameters: OrderedDict([('weights', tensor([-0.0317])), ('bias', tensor([0.7184]))])\n",
            "epoch: 680, parameters: OrderedDict([('weights', tensor([-0.0232])), ('bias', tensor([0.7148]))])\n",
            "epoch: 690, parameters: OrderedDict([('weights', tensor([-0.0146])), ('bias', tensor([0.7111]))])\n",
            "epoch: 700, parameters: OrderedDict([('weights', tensor([-0.0061])), ('bias', tensor([0.7076]))])\n",
            "epoch: 710, parameters: OrderedDict([('weights', tensor([0.0024])), ('bias', tensor([0.7040]))])\n",
            "epoch: 720, parameters: OrderedDict([('weights', tensor([0.0110])), ('bias', tensor([0.7004]))])\n",
            "epoch: 730, parameters: OrderedDict([('weights', tensor([0.0195])), ('bias', tensor([0.6969]))])\n",
            "epoch: 740, parameters: OrderedDict([('weights', tensor([0.0280])), ('bias', tensor([0.6933]))])\n",
            "epoch: 750, parameters: OrderedDict([('weights', tensor([0.0366])), ('bias', tensor([0.6896]))])\n",
            "epoch: 760, parameters: OrderedDict([('weights', tensor([0.0451])), ('bias', tensor([0.6861]))])\n",
            "epoch: 770, parameters: OrderedDict([('weights', tensor([0.0536])), ('bias', tensor([0.6825]))])\n",
            "epoch: 780, parameters: OrderedDict([('weights', tensor([0.0622])), ('bias', tensor([0.6789]))])\n",
            "epoch: 790, parameters: OrderedDict([('weights', tensor([0.0707])), ('bias', tensor([0.6754]))])\n",
            "epoch: 800, parameters: OrderedDict([('weights', tensor([0.0792])), ('bias', tensor([0.6718]))])\n",
            "epoch: 810, parameters: OrderedDict([('weights', tensor([0.0877])), ('bias', tensor([0.6681]))])\n",
            "epoch: 820, parameters: OrderedDict([('weights', tensor([0.0963])), ('bias', tensor([0.6646]))])\n",
            "epoch: 830, parameters: OrderedDict([('weights', tensor([0.1048])), ('bias', tensor([0.6610]))])\n",
            "epoch: 840, parameters: OrderedDict([('weights', tensor([0.1133])), ('bias', tensor([0.6574]))])\n",
            "epoch: 850, parameters: OrderedDict([('weights', tensor([0.1219])), ('bias', tensor([0.6539]))])\n",
            "epoch: 860, parameters: OrderedDict([('weights', tensor([0.1304])), ('bias', tensor([0.6503]))])\n",
            "epoch: 870, parameters: OrderedDict([('weights', tensor([0.1389])), ('bias', tensor([0.6466]))])\n",
            "epoch: 880, parameters: OrderedDict([('weights', tensor([0.1475])), ('bias', tensor([0.6431]))])\n",
            "epoch: 890, parameters: OrderedDict([('weights', tensor([0.1560])), ('bias', tensor([0.6395]))])\n",
            "epoch: 900, parameters: OrderedDict([('weights', tensor([0.1645])), ('bias', tensor([0.6359]))])\n",
            "epoch: 910, parameters: OrderedDict([('weights', tensor([0.1731])), ('bias', tensor([0.6324]))])\n"
          ]
        },
        {
          "output_type": "stream",
          "name": "stderr",
          "text": [
            "\r100%|██████████| 1000/1000 [00:00<00:00, 1485.66it/s]"
          ]
        },
        {
          "output_type": "stream",
          "name": "stdout",
          "text": [
            "epoch: 920, parameters: OrderedDict([('weights', tensor([0.1816])), ('bias', tensor([0.6288]))])\n",
            "epoch: 930, parameters: OrderedDict([('weights', tensor([0.1901])), ('bias', tensor([0.6251]))])\n",
            "epoch: 940, parameters: OrderedDict([('weights', tensor([0.1987])), ('bias', tensor([0.6216]))])\n",
            "epoch: 950, parameters: OrderedDict([('weights', tensor([0.2072])), ('bias', tensor([0.6180]))])\n",
            "epoch: 960, parameters: OrderedDict([('weights', tensor([0.2157])), ('bias', tensor([0.6144]))])\n",
            "epoch: 970, parameters: OrderedDict([('weights', tensor([0.2243])), ('bias', tensor([0.6109]))])\n",
            "epoch: 980, parameters: OrderedDict([('weights', tensor([0.2328])), ('bias', tensor([0.6073]))])\n",
            "epoch: 990, parameters: OrderedDict([('weights', tensor([0.2413])), ('bias', tensor([0.6036]))])\n"
          ]
        },
        {
          "output_type": "stream",
          "name": "stderr",
          "text": [
            "\n"
          ]
        }
      ]
    },
    {
      "cell_type": "code",
      "source": [
        "plt.plot(np.array(epoch_arr), np.array(torch.tensor(loss_arr)), c = 'b', label = 'Train loss')\n",
        "plt.plot(np.array(epoch_arr), np.array(torch.tensor(test_loss_arr)), c = 'r', label = 'Test loss')\n",
        "#plt.title('Train and Test loss')\n",
        "#plt.xlabel('Epoch')\n",
        "#plt.ylabel('Loss')\n",
        "plt.legend()"
      ],
      "metadata": {
        "colab": {
          "base_uri": "https://localhost:8080/",
          "height": 447
        },
        "id": "f9GODYu7P9bV",
        "outputId": "6908b808-f7a8-4008-cc81-c24ee99e7db1"
      },
      "execution_count": null,
      "outputs": [
        {
          "output_type": "execute_result",
          "data": {
            "text/plain": [
              "<matplotlib.legend.Legend at 0x7a3a887a3af0>"
            ]
          },
          "metadata": {},
          "execution_count": 129
        },
        {
          "output_type": "display_data",
          "data": {
            "text/plain": [
              "<Figure size 640x480 with 1 Axes>"
            ],
            "image/png": "[encoded data removed]"
          },
          "metadata": {}
        }
      ]
    },
    {
      "cell_type": "code",
      "source": [
        "with torch.inference_mode():\n",
        "    y_pred = model_0(X_test)\n",
        "y_pred"
      ],
      "metadata": {
        "colab": {
          "base_uri": "https://localhost:8080/"
        },
        "id": "ob7BnXTHrYKb",
        "outputId": "d1cb9e7a-6ee9-4e37-bda4-2f45da514dba"
      },
      "execution_count": null,
      "outputs": [
        {
          "output_type": "execute_result",
          "data": {
            "text/plain": [
              "tensor([0.8004, 0.8029, 0.8054, 0.8078, 0.8103, 0.8128, 0.8153, 0.8177, 0.8202,\n",
              "        0.8227, 0.8252, 0.8277, 0.8301, 0.8326, 0.8351, 0.8376, 0.8400, 0.8425,\n",
              "        0.8450, 0.8475])"
            ]
          },
          "metadata": {},
          "execution_count": 125
        }
      ]
    },
    {
      "cell_type": "code",
      "source": [
        "visualize(prediction = y_pred)"
      ],
      "metadata": {
        "colab": {
          "base_uri": "https://localhost:8080/",
          "height": 430
        },
        "id": "uPj7X4zJw_q_",
        "outputId": "128b0b5a-c79b-48db-e2c7-322a00ba4104"
      },
      "execution_count": null,
      "outputs": [
        {
          "output_type": "display_data",
          "data": {
            "text/plain": [
              "<Figure size 640x480 with 1 Axes>"
            ],
            "image/png": "[encoded data removed]"
          },
          "metadata": {}
        }
      ]
    },
    {
      "cell_type": "code",
      "source": [
        "DIRPATH = Path('models')\n",
        "DIRPATH.mkdir(parents=True, exist_ok=True)\n",
        "FILE_NAME = 'course1_workflow_linear_regression.pth'\n",
        "FILE_PATH = DIRPATH / FILE_NAME\n",
        "torch.save(obj=model_0.state_dict(), f=FILE_PATH)"
      ],
      "metadata": {
        "id": "mpHKOHe2ZU_H"
      },
      "execution_count": null,
      "outputs": []
    },
    {
      "cell_type": "code",
      "source": [
        "loaded_model = LinearRegression()"
      ],
      "metadata": {
        "id": "tPzY3T9ZZhCS"
      },
      "execution_count": null,
      "outputs": []
    },
    {
      "cell_type": "code",
      "source": [
        "loaded_model.state_dict()"
      ],
      "metadata": {
        "colab": {
          "base_uri": "https://localhost:8080/"
        },
        "id": "a6UXQ0Zyctw9",
        "outputId": "ad127cd2-c49a-48d7-9665-ecc233d7a816"
      },
      "execution_count": null,
      "outputs": [
        {
          "output_type": "execute_result",
          "data": {
            "text/plain": [
              "OrderedDict([('weights', tensor([1.3221])), ('bias', tensor([0.8172]))])"
            ]
          },
          "metadata": {},
          "execution_count": 156
        }
      ]
    },
    {
      "cell_type": "code",
      "source": [
        "loaded_model.load_state_dict(torch.load(f=FILE_PATH))"
      ],
      "metadata": {
        "colab": {
          "base_uri": "https://localhost:8080/"
        },
        "id": "fhYO5Wn5cwxx",
        "outputId": "5995ac46-0a8f-45d7-c14c-4f5d19a6d40c"
      },
      "execution_count": null,
      "outputs": [
        {
          "output_type": "execute_result",
          "data": {
            "text/plain": [
              "<All keys matched successfully>"
            ]
          },
          "metadata": {},
          "execution_count": 157
        }
      ]
    },
    {
      "cell_type": "code",
      "source": [
        "loaded_model.state_dict()"
      ],
      "metadata": {
        "colab": {
          "base_uri": "https://localhost:8080/"
        },
        "id": "vEbP7hg6dHXr",
        "outputId": "9543187a-b9d7-4342-9700-4838f1110ef3"
      },
      "execution_count": null,
      "outputs": [
        {
          "output_type": "execute_result",
          "data": {
            "text/plain": [
              "OrderedDict([('weights', tensor([0.2477])), ('bias', tensor([0.6023]))])"
            ]
          },
          "metadata": {},
          "execution_count": 158
        }
      ]
    },
    {
      "cell_type": "code",
      "source": [
        "loaded_model.eval()\n",
        "with torch.inference_mode():\n",
        "    load_pred = loaded_model(X_test)\n",
        "\n",
        "load_pred == y_pred"
      ],
      "metadata": {
        "colab": {
          "base_uri": "https://localhost:8080/"
        },
        "id": "CesVBqUAdotl",
        "outputId": "fb519cc4-40c2-4a36-a22c-0fe98dfd1439"
      },
      "execution_count": null,
      "outputs": [
        {
          "output_type": "execute_result",
          "data": {
            "text/plain": [
              "tensor([True, True, True, True, True, True, True, True, True, True, True, True,\n",
              "        True, True, True, True, True, True, True, True])"
            ]
          },
          "metadata": {},
          "execution_count": 160
        }
      ]
    },
    {
      "cell_type": "code",
      "source": [
        "tz = torch.randn(2)\n",
        "tz"
      ],
      "metadata": {
        "colab": {
          "base_uri": "https://localhost:8080/"
        },
        "id": "ZL1HAmllpPRf",
        "outputId": "a83788e1-4918-4d92-f2ef-5c2787c35fe1"
      },
      "execution_count": null,
      "outputs": [
        {
          "output_type": "execute_result",
          "data": {
            "text/plain": [
              "tensor([-0.0499,  0.5263])"
            ]
          },
          "metadata": {},
          "execution_count": 176
        }
      ]
    },
    {
      "cell_type": "code",
      "source": [
        "def fn (arr = tz):\n",
        "    print(arr)"
      ],
      "metadata": {
        "id": "9Kxm_gpweVcn"
      },
      "execution_count": null,
      "outputs": []
    },
    {
      "cell_type": "code",
      "source": [
        "tz = torch.arange(5.0, 1.0, -0.2)"
      ],
      "metadata": {
        "id": "iS7OYDuYpsNH"
      },
      "execution_count": null,
      "outputs": []
    },
    {
      "cell_type": "code",
      "source": [
        "fn(tz)"
      ],
      "metadata": {
        "colab": {
          "base_uri": "https://localhost:8080/"
        },
        "id": "YqiYyaEMpD9l",
        "outputId": "22b48c6d-3e1f-4427-c628-516d47bd158b"
      },
      "execution_count": null,
      "outputs": [
        {
          "output_type": "stream",
          "name": "stdout",
          "text": [
            "tensor([1.0000, 1.2000, 1.4000, 1.6000, 1.8000, 2.0000, 2.2000, 2.4000, 2.6000,\n",
            "        2.8000, 3.0000, 3.2000, 3.4000, 3.6000, 3.8000, 4.0000, 4.2000, 4.4000,\n",
            "        4.6000, 4.8000, 5.0000, 5.2000, 5.4000, 5.6000, 5.8000, 6.0000, 6.2000,\n",
            "        6.4000, 6.6000, 6.8000, 7.0000, 7.2000, 7.4000, 7.6000, 7.8000, 8.0000,\n",
            "        8.2000, 8.4000, 8.6000, 8.8000, 9.0000, 9.2000, 9.4000, 9.6000, 9.8000])\n"
          ]
        }
      ]
    },
    {
      "cell_type": "code",
      "source": [
        "tz = torch.arange(1.0, 10.0, 0.2)"
      ],
      "metadata": {
        "id": "UR5iARMUpGbC"
      },
      "execution_count": null,
      "outputs": []
    },
    {
      "cell_type": "code",
      "source": [
        "fn()"
      ],
      "metadata": {
        "colab": {
          "base_uri": "https://localhost:8080/"
        },
        "id": "5T7WwhqNpaak",
        "outputId": "5b106c6c-00fc-4a48-aded-5d8ccbe353f6"
      },
      "execution_count": null,
      "outputs": [
        {
          "output_type": "stream",
          "name": "stdout",
          "text": [
            "tensor([-0.0499,  0.5263])\n"
          ]
        }
      ]
    },
    {
      "cell_type": "code",
      "source": [],
      "metadata": {
        "id": "uDnHygJZpbTd"
      },
      "execution_count": null,
      "outputs": []
    }
  ]
}