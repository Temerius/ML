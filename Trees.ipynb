{
  "nbformat": 4,
  "nbformat_minor": 0,
  "metadata": {
    "colab": {
      "provenance": [],
      "authorship_tag": "ABX9TyNTvkW36D21k3NmHpx3e+9k",
      "include_colab_link": true
    },
    "kernelspec": {
      "name": "python3",
      "display_name": "Python 3"
    },
    "language_info": {
      "name": "python"
    }
  },
  "cells": [
    {
      "cell_type": "markdown",
      "metadata": {
        "id": "view-in-github",
        "colab_type": "text"
      },
      "source": [
        "<a href=\"https://colab.research.google.com/github/Temerius/ML/blob/main/Trees.ipynb\" target=\"_parent\"><img src=\"https://colab.research.google.com/assets/colab-badge.svg\" alt=\"Open In Colab\"/></a>"
      ]
    },
    {
      "cell_type": "code",
      "execution_count": 1607,
      "metadata": {
        "id": "lbnxvFvor19-"
      },
      "outputs": [],
      "source": [
        "import torch\n",
        "import numpy as np\n",
        "import pandas as pd\n",
        "import matplotlib.pyplot as plt\n",
        "import random\n",
        "import time\n",
        "import matplotlib.animation as animation\n",
        "import numexpr as ne"
      ]
    },
    {
      "cell_type": "code",
      "source": [
        "points_num = 4"
      ],
      "metadata": {
        "id": "77jqgCoxWhjV"
      },
      "execution_count": 1608,
      "outputs": []
    },
    {
      "cell_type": "code",
      "source": [
        "X = torch.zeros((points_num,points_num))"
      ],
      "metadata": {
        "id": "1SZippuqXGQ6"
      },
      "execution_count": 1609,
      "outputs": []
    },
    {
      "cell_type": "code",
      "source": [
        "for i in range(points_num):\n",
        "    for j in range(i+1,points_num):\n",
        "        tmp = random.randint(1,100)\n",
        "        X[i][j] = tmp\n",
        "        X[j][i] = tmp"
      ],
      "metadata": {
        "id": "4T5G8-FaXD9B"
      },
      "execution_count": 1610,
      "outputs": []
    },
    {
      "cell_type": "code",
      "source": [
        "#X = torch.tensor([[0,5,0.5,2],[5,0,1,0.6],[0.5,1,0,2.5],[2,0.6,2.5,0]])"
      ],
      "metadata": {
        "id": "hjAENWQxN8E6"
      },
      "execution_count": 1611,
      "outputs": []
    },
    {
      "cell_type": "code",
      "source": [
        "data = pd.DataFrame(data=X)\n",
        "data"
      ],
      "metadata": {
        "colab": {
          "base_uri": "https://localhost:8080/",
          "height": 175
        },
        "id": "YBzRSYkPTsKt",
        "outputId": "6ee9e7b6-ff88-4ee9-920a-74ce20c5edbe"
      },
      "execution_count": 1612,
      "outputs": [
        {
          "output_type": "execute_result",
          "data": {
            "text/plain": [
              "      0     1     2     3\n",
              "0   0.0  26.0   3.0  13.0\n",
              "1  26.0   0.0  17.0  12.0\n",
              "2   3.0  17.0   0.0  94.0\n",
              "3  13.0  12.0  94.0   0.0"
            ],
            "text/html": [
              "\n",
              "  <div id=\"df-e0930a17-3b02-4b04-b682-19ff6a26e839\" class=\"colab-df-container\">\n",
              "    <div>\n",
              "<style scoped>\n",
              "    .dataframe tbody tr th:only-of-type {\n",
              "        vertical-align: middle;\n",
              "    }\n",
              "\n",
              "    .dataframe tbody tr th {\n",
              "        vertical-align: top;\n",
              "    }\n",
              "\n",
              "    .dataframe thead th {\n",
              "        text-align: right;\n",
              "    }\n",
              "</style>\n",
              "<table border=\"1\" class=\"dataframe\">\n",
              "  <thead>\n",
              "    <tr style=\"text-align: right;\">\n",
              "      <th></th>\n",
              "      <th>0</th>\n",
              "      <th>1</th>\n",
              "      <th>2</th>\n",
              "      <th>3</th>\n",
              "    </tr>\n",
              "  </thead>\n",
              "  <tbody>\n",
              "    <tr>\n",
              "      <th>0</th>\n",
              "      <td>0.0</td>\n",
              "      <td>26.0</td>\n",
              "      <td>3.0</td>\n",
              "      <td>13.0</td>\n",
              "    </tr>\n",
              "    <tr>\n",
              "      <th>1</th>\n",
              "      <td>26.0</td>\n",
              "      <td>0.0</td>\n",
              "      <td>17.0</td>\n",
              "      <td>12.0</td>\n",
              "    </tr>\n",
              "    <tr>\n",
              "      <th>2</th>\n",
              "      <td>3.0</td>\n",
              "      <td>17.0</td>\n",
              "      <td>0.0</td>\n",
              "      <td>94.0</td>\n",
              "    </tr>\n",
              "    <tr>\n",
              "      <th>3</th>\n",
              "      <td>13.0</td>\n",
              "      <td>12.0</td>\n",
              "      <td>94.0</td>\n",
              "      <td>0.0</td>\n",
              "    </tr>\n",
              "  </tbody>\n",
              "</table>\n",
              "</div>\n",
              "    <div class=\"colab-df-buttons\">\n",
              "\n",
              "  <div class=\"colab-df-container\">\n",
              "    <button class=\"colab-df-convert\" onclick=\"convertToInteractive('df-e0930a17-3b02-4b04-b682-19ff6a26e839')\"\n",
              "            title=\"Convert this dataframe to an interactive table.\"\n",
              "            style=\"display:none;\">\n",
              "\n",
              "  <svg xmlns=\"http://www.w3.org/2000/svg\" height=\"24px\" viewBox=\"0 -960 960 960\">\n",
              "    <path d=\"M120-120v-720h720v720H120Zm60-500h600v-160H180v160Zm220 220h160v-160H400v160Zm0 220h160v-160H400v160ZM180-400h160v-160H180v160Zm440 0h160v-160H620v160ZM180-180h160v-160H180v160Zm440 0h160v-160H620v160Z\"/>\n",
              "  </svg>\n",
              "    </button>\n",
              "\n",
              "  <style>\n",
              "    .colab-df-container {\n",
              "      display:flex;\n",
              "      gap: 12px;\n",
              "    }\n",
              "\n",
              "    .colab-df-convert {\n",
              "      background-color: #E8F0FE;\n",
              "      border: none;\n",
              "      border-radius: 50%;\n",
              "      cursor: pointer;\n",
              "      display: none;\n",
              "      fill: #1967D2;\n",
              "      height: 32px;\n",
              "      padding: 0 0 0 0;\n",
              "      width: 32px;\n",
              "    }\n",
              "\n",
              "    .colab-df-convert:hover {\n",
              "      background-color: #E2EBFA;\n",
              "      box-shadow: 0px 1px 2px rgba(60, 64, 67, 0.3), 0px 1px 3px 1px rgba(60, 64, 67, 0.15);\n",
              "      fill: #174EA6;\n",
              "    }\n",
              "\n",
              "    .colab-df-buttons div {\n",
              "      margin-bottom: 4px;\n",
              "    }\n",
              "\n",
              "    [theme=dark] .colab-df-convert {\n",
              "      background-color: #3B4455;\n",
              "      fill: #D2E3FC;\n",
              "    }\n",
              "\n",
              "    [theme=dark] .colab-df-convert:hover {\n",
              "      background-color: #434B5C;\n",
              "      box-shadow: 0px 1px 3px 1px rgba(0, 0, 0, 0.15);\n",
              "      filter: drop-shadow(0px 1px 2px rgba(0, 0, 0, 0.3));\n",
              "      fill: #FFFFFF;\n",
              "    }\n",
              "  </style>\n",
              "\n",
              "    <script>\n",
              "      const buttonEl =\n",
              "        document.querySelector('#df-e0930a17-3b02-4b04-b682-19ff6a26e839 button.colab-df-convert');\n",
              "      buttonEl.style.display =\n",
              "        google.colab.kernel.accessAllowed ? 'block' : 'none';\n",
              "\n",
              "      async function convertToInteractive(key) {\n",
              "        const element = document.querySelector('#df-e0930a17-3b02-4b04-b682-19ff6a26e839');\n",
              "        const dataTable =\n",
              "          await google.colab.kernel.invokeFunction('convertToInteractive',\n",
              "                                                    [key], {});\n",
              "        if (!dataTable) return;\n",
              "\n",
              "        const docLinkHtml = 'Like what you see? Visit the ' +\n",
              "          '<a target=\"_blank\" href=https://colab.research.google.com/notebooks/data_table.ipynb>data table notebook</a>'\n",
              "          + ' to learn more about interactive tables.';\n",
              "        element.innerHTML = '';\n",
              "        dataTable['output_type'] = 'display_data';\n",
              "        await google.colab.output.renderOutput(dataTable, element);\n",
              "        const docLink = document.createElement('div');\n",
              "        docLink.innerHTML = docLinkHtml;\n",
              "        element.appendChild(docLink);\n",
              "      }\n",
              "    </script>\n",
              "  </div>\n",
              "\n",
              "\n",
              "<div id=\"df-bd7b1927-d3fa-4756-86e7-0ab5266927db\">\n",
              "  <button class=\"colab-df-quickchart\" onclick=\"quickchart('df-bd7b1927-d3fa-4756-86e7-0ab5266927db')\"\n",
              "            title=\"Suggest charts\"\n",
              "            style=\"display:none;\">\n",
              "\n",
              "<svg xmlns=\"http://www.w3.org/2000/svg\" height=\"24px\"viewBox=\"0 0 24 24\"\n",
              "     width=\"24px\">\n",
              "    <g>\n",
              "        <path d=\"M19 3H5c-1.1 0-2 .9-2 2v14c0 1.1.9 2 2 2h14c1.1 0 2-.9 2-2V5c0-1.1-.9-2-2-2zM9 17H7v-7h2v7zm4 0h-2V7h2v10zm4 0h-2v-4h2v4z\"/>\n",
              "    </g>\n",
              "</svg>\n",
              "  </button>\n",
              "\n",
              "<style>\n",
              "  .colab-df-quickchart {\n",
              "      --bg-color: #E8F0FE;\n",
              "      --fill-color: #1967D2;\n",
              "      --hover-bg-color: #E2EBFA;\n",
              "      --hover-fill-color: #174EA6;\n",
              "      --disabled-fill-color: #AAA;\n",
              "      --disabled-bg-color: #DDD;\n",
              "  }\n",
              "\n",
              "  [theme=dark] .colab-df-quickchart {\n",
              "      --bg-color: #3B4455;\n",
              "      --fill-color: #D2E3FC;\n",
              "      --hover-bg-color: #434B5C;\n",
              "      --hover-fill-color: #FFFFFF;\n",
              "      --disabled-bg-color: #3B4455;\n",
              "      --disabled-fill-color: #666;\n",
              "  }\n",
              "\n",
              "  .colab-df-quickchart {\n",
              "    background-color: var(--bg-color);\n",
              "    border: none;\n",
              "    border-radius: 50%;\n",
              "    cursor: pointer;\n",
              "    display: none;\n",
              "    fill: var(--fill-color);\n",
              "    height: 32px;\n",
              "    padding: 0;\n",
              "    width: 32px;\n",
              "  }\n",
              "\n",
              "  .colab-df-quickchart:hover {\n",
              "    background-color: var(--hover-bg-color);\n",
              "    box-shadow: 0 1px 2px rgba(60, 64, 67, 0.3), 0 1px 3px 1px rgba(60, 64, 67, 0.15);\n",
              "    fill: var(--button-hover-fill-color);\n",
              "  }\n",
              "\n",
              "  .colab-df-quickchart-complete:disabled,\n",
              "  .colab-df-quickchart-complete:disabled:hover {\n",
              "    background-color: var(--disabled-bg-color);\n",
              "    fill: var(--disabled-fill-color);\n",
              "    box-shadow: none;\n",
              "  }\n",
              "\n",
              "  .colab-df-spinner {\n",
              "    border: 2px solid var(--fill-color);\n",
              "    border-color: transparent;\n",
              "    border-bottom-color: var(--fill-color);\n",
              "    animation:\n",
              "      spin 1s steps(1) infinite;\n",
              "  }\n",
              "\n",
              "  @keyframes spin {\n",
              "    0% {\n",
              "      border-color: transparent;\n",
              "      border-bottom-color: var(--fill-color);\n",
              "      border-left-color: var(--fill-color);\n",
              "    }\n",
              "    20% {\n",
              "      border-color: transparent;\n",
              "      border-left-color: var(--fill-color);\n",
              "      border-top-color: var(--fill-color);\n",
              "    }\n",
              "    30% {\n",
              "      border-color: transparent;\n",
              "      border-left-color: var(--fill-color);\n",
              "      border-top-color: var(--fill-color);\n",
              "      border-right-color: var(--fill-color);\n",
              "    }\n",
              "    40% {\n",
              "      border-color: transparent;\n",
              "      border-right-color: var(--fill-color);\n",
              "      border-top-color: var(--fill-color);\n",
              "    }\n",
              "    60% {\n",
              "      border-color: transparent;\n",
              "      border-right-color: var(--fill-color);\n",
              "    }\n",
              "    80% {\n",
              "      border-color: transparent;\n",
              "      border-right-color: var(--fill-color);\n",
              "      border-bottom-color: var(--fill-color);\n",
              "    }\n",
              "    90% {\n",
              "      border-color: transparent;\n",
              "      border-bottom-color: var(--fill-color);\n",
              "    }\n",
              "  }\n",
              "</style>\n",
              "\n",
              "  <script>\n",
              "    async function quickchart(key) {\n",
              "      const quickchartButtonEl =\n",
              "        document.querySelector('#' + key + ' button');\n",
              "      quickchartButtonEl.disabled = true;  // To prevent multiple clicks.\n",
              "      quickchartButtonEl.classList.add('colab-df-spinner');\n",
              "      try {\n",
              "        const charts = await google.colab.kernel.invokeFunction(\n",
              "            'suggestCharts', [key], {});\n",
              "      } catch (error) {\n",
              "        console.error('Error during call to suggestCharts:', error);\n",
              "      }\n",
              "      quickchartButtonEl.classList.remove('colab-df-spinner');\n",
              "      quickchartButtonEl.classList.add('colab-df-quickchart-complete');\n",
              "    }\n",
              "    (() => {\n",
              "      let quickchartButtonEl =\n",
              "        document.querySelector('#df-bd7b1927-d3fa-4756-86e7-0ab5266927db button');\n",
              "      quickchartButtonEl.style.display =\n",
              "        google.colab.kernel.accessAllowed ? 'block' : 'none';\n",
              "    })();\n",
              "  </script>\n",
              "</div>\n",
              "    </div>\n",
              "  </div>\n"
            ],
            "application/vnd.google.colaboratory.intrinsic+json": {
              "type": "dataframe",
              "variable_name": "data",
              "summary": "{\n  \"name\": \"data\",\n  \"rows\": 4,\n  \"fields\": [\n    {\n      \"column\": 0,\n      \"properties\": {\n        \"dtype\": \"float32\",\n        \"num_unique_values\": 4,\n        \"samples\": [\n          26.0,\n          13.0,\n          0.0\n        ],\n        \"semantic_type\": \"\",\n        \"description\": \"\"\n      }\n    },\n    {\n      \"column\": 1,\n      \"properties\": {\n        \"dtype\": \"float32\",\n        \"num_unique_values\": 4,\n        \"samples\": [\n          0.0,\n          12.0,\n          26.0\n        ],\n        \"semantic_type\": \"\",\n        \"description\": \"\"\n      }\n    },\n    {\n      \"column\": 2,\n      \"properties\": {\n        \"dtype\": \"float32\",\n        \"num_unique_values\": 4,\n        \"samples\": [\n          17.0,\n          94.0,\n          3.0\n        ],\n        \"semantic_type\": \"\",\n        \"description\": \"\"\n      }\n    },\n    {\n      \"column\": 3,\n      \"properties\": {\n        \"dtype\": \"float32\",\n        \"num_unique_values\": 4,\n        \"samples\": [\n          12.0,\n          0.0,\n          13.0\n        ],\n        \"semantic_type\": \"\",\n        \"description\": \"\"\n      }\n    }\n  ]\n}"
            }
          },
          "metadata": {},
          "execution_count": 1612
        }
      ]
    },
    {
      "cell_type": "code",
      "source": [
        "counter = iter(range(1,len(data)))\n",
        "steper = iter(torch.linspace(1,50,len(data)))\n",
        "counter"
      ],
      "metadata": {
        "colab": {
          "base_uri": "https://localhost:8080/"
        },
        "id": "1r4mnSL7xbTt",
        "outputId": "940df84f-7a82-4108-e4ea-ec453df610cb"
      },
      "execution_count": 1613,
      "outputs": [
        {
          "output_type": "execute_result",
          "data": {
            "text/plain": [
              "<range_iterator at 0x7f69730799e0>"
            ]
          },
          "metadata": {},
          "execution_count": 1613
        }
      ]
    },
    {
      "cell_type": "code",
      "source": [
        "dots = []\n",
        "plots = []\n",
        "for i in range(len(data)):\n",
        "    dots.append((f'x{i+1}',[0,0]))\n",
        "dots"
      ],
      "metadata": {
        "colab": {
          "base_uri": "https://localhost:8080/"
        },
        "id": "tMToloRDwiVE",
        "outputId": "7ed768e0-83ae-4032-dbd3-1d79b1a96560"
      },
      "execution_count": 1614,
      "outputs": [
        {
          "output_type": "execute_result",
          "data": {
            "text/plain": [
              "[('x1', [0, 0]), ('x2', [0, 0]), ('x3', [0, 0]), ('x4', [0, 0])]"
            ]
          },
          "metadata": {},
          "execution_count": 1614
        }
      ]
    },
    {
      "cell_type": "code",
      "source": [
        "def draw_lines(x1: tuple, x2: tuple, distance: int):\n",
        "\n",
        "    new_y = distance\n",
        "    plots.append(plt.plot([x1[1][0], x1[1][0]], [x1[1][1], new_y], c='blue'))\n",
        "    plots.append(plt.plot([x2[1][0], x2[1][0]], [x2[1][1], new_y], c='blue'))\n",
        "    plots.append(plt.plot([x1[1][0], x2[1][0]], [new_y, new_y], c='blue'))\n",
        "\n",
        "    newdot = (f'd{next(counter)}', (((x1[1][0] + x2[1][0]) / 2), new_y))\n",
        "\n",
        "    plots.append(plt.scatter(x1[1][0], x1[1][1], marker='.', color='blue', s=50))\n",
        "    plots.append(plt.scatter(x2[1][0], x2[1][1], marker='.', color='blue', s=50))\n",
        "    plots.append(plt.scatter(newdot[1][0], newdot[1][1], marker='.', color='blue', s=50))\n",
        "\n",
        "    plots.append(plt.text(x1[1][0], x1[1][1], x1[0]))\n",
        "    plots.append(plt.text(x2[1][0], x2[1][1], x2[0]))\n",
        "    plots.append(plt.text(newdot[1][0], newdot[1][1], newdot[0]))\n",
        "\n",
        "    return newdot"
      ],
      "metadata": {
        "id": "tEOe7233xoFv"
      },
      "execution_count": 1615,
      "outputs": []
    },
    {
      "cell_type": "code",
      "source": [
        "# find max\n",
        "def step(matrix=X,func=torch.max, argfunc=torch.argmax):\n",
        "\n",
        "    row, col = 0, 1\n",
        "    for i in range(len(matrix)):\n",
        "        for j in range(i+1, len(matrix)):\n",
        "            if matrix[i,j] < matrix[row,col]:\n",
        "                row,col = i,j\n",
        "\n",
        "    x1 = dots[row]\n",
        "    x2 = dots[col]\n",
        "\n",
        "    if x1[1][0] == 0:\n",
        "        x1[1][0] = next(steper)\n",
        "\n",
        "    if x2[1][0] == 0:\n",
        "        x2[1][0] = next(steper)\n",
        "\n",
        "    distance = matrix[row,col]\n",
        "    del dots[row]\n",
        "    if col < row:\n",
        "        del dots[col]\n",
        "    else:\n",
        "        del dots[col-1]\n",
        "    newdot = draw_lines(x1, x2, distance)\n",
        "    dots.append(newdot)\n",
        "\n",
        "\n",
        "    #print(row,col)\n",
        "    tmp = torch.cat((matrix[:,:row],matrix[:,row+1:]), dim=1)\n",
        "    tmp = torch.cat((tmp[:,:col-1],tmp[:,col:]), dim=1)\n",
        "    #print(tmp.shape)\n",
        "    tmp = torch.cat((tmp[:row,:],tmp[row+1:,:]), dim=0)\n",
        "    tmp = torch.cat((tmp[:col-1,:],tmp[col:,:]), dim=0)\n",
        "\n",
        "\n",
        "\n",
        "    #print(tmp.shape)\n",
        "    tmp1 = torch.cat((matrix[row,:torch.argmin(matrix[row,:])],matrix[row,torch.argmin(matrix[row,:])+1:]),dim=0)\n",
        "    tmp1 = torch.cat((tmp1[:argfunc(tmp1)],tmp1[argfunc(tmp1)+1:]),dim=0)\n",
        "    tmp2 = torch.cat((matrix[col,:torch.argmin(matrix[col,:])],matrix[col,torch.argmin(matrix[col,:])+1:]),dim=0)\n",
        "    tmp2 = torch.cat((tmp2[:argfunc(tmp2)],tmp2[argfunc(tmp2)+1:]),dim=0)\n",
        "    tmp3 = torch.stack((tmp1,tmp2),dim=0)\n",
        "    #print(tmp3.shape)\n",
        "    tmp4 = func(tmp3,dim=0)\n",
        "    tmp4 = tmp4.values\n",
        "    #print(tmp4.shape)\n",
        "    matrix = torch.cat((tmp,tmp4.unsqueeze(dim=0)),dim=0)\n",
        "    #print(matrix.shape)\n",
        "    tmp4 = torch.cat((tmp4,torch.tensor([0])),dim=0)\n",
        "    #print(tmp4.T.shape)\n",
        "    matrix = torch.cat((matrix, tmp4.T.unsqueeze(dim=1)), dim=1)\n",
        "    #print(matrix.shape)\n",
        "    return matrix"
      ],
      "metadata": {
        "id": "cBJ_TBAuU_Qm"
      },
      "execution_count": 1616,
      "outputs": []
    },
    {
      "cell_type": "code",
      "source": [
        "\"\"\"for i in range(points_num-1):\n",
        "    X = step(matrix=X, func=torch.min, argfunc=torch.argmin)\n",
        "    data = pd.DataFrame(data=X)\n",
        "    print(data,end='\\n\\n\\n||||||||||||||||||\\n\\n\\n')\"\"\""
      ],
      "metadata": {
        "colab": {
          "base_uri": "https://localhost:8080/",
          "height": 53
        },
        "id": "q0VMG8vxfT2P",
        "outputId": "172b6af1-bae8-4d81-9380-8370581cc2f0"
      },
      "execution_count": 1617,
      "outputs": [
        {
          "output_type": "execute_result",
          "data": {
            "text/plain": [
              "\"for i in range(points_num-1):\\n    X = step(matrix=X, func=torch.min, argfunc=torch.argmin)\\n    data = pd.DataFrame(data=X)\\n    print(data,end='\\n\\n\\n||||||||||||||||||\\n\\n\\n')\""
            ],
            "application/vnd.google.colaboratory.intrinsic+json": {
              "type": "string"
            }
          },
          "metadata": {},
          "execution_count": 1617
        }
      ]
    },
    {
      "cell_type": "code",
      "source": [
        "for i in range(len(X)):\n",
        "    for j in range(len(X[i])):\n",
        "        if X[i][j] != 0:\n",
        "            X[i][j] = 1 / X[i][j]\n",
        "\n",
        "for i in range(points_num-1):\n",
        "    X = step(matrix=X, func=torch.min, argfunc=torch.argmin)\n",
        "    data = pd.DataFrame(data=X)\n",
        "    print(data,end='\\n\\n\\n||||||||||||||||||\\n\\n\\n')"
      ],
      "metadata": {
        "colab": {
          "base_uri": "https://localhost:8080/",
          "height": 859
        },
        "id": "2ocprSfiSfQ6",
        "outputId": "f6f197c3-1486-45c1-e01e-d3243c0a5749"
      },
      "execution_count": 1618,
      "outputs": [
        {
          "output_type": "stream",
          "name": "stdout",
          "text": [
            "          0         1         2\n",
            "0  0.000000  0.038462  0.076923\n",
            "1  0.038462  0.000000  0.058824\n",
            "2  0.076923  0.058824  0.000000\n",
            "\n",
            "\n",
            "||||||||||||||||||\n",
            "\n",
            "\n",
            "          0         1\n",
            "0  0.000000  0.058824\n",
            "1  0.058824  0.000000\n",
            "\n",
            "\n",
            "||||||||||||||||||\n",
            "\n",
            "\n",
            "     0\n",
            "0  0.0\n",
            "\n",
            "\n",
            "||||||||||||||||||\n",
            "\n",
            "\n"
          ]
        },
        {
          "output_type": "display_data",
          "data": {
            "text/plain": [
              "<Figure size 640x480 with 1 Axes>"
            ],
            "image/png": "[encoded data removed]"
          },
          "metadata": {}
        }
      ]
    },
    {
      "cell_type": "code",
      "source": [],
      "metadata": {
        "id": "y4ZvGrQATM36"
      },
      "execution_count": 1618,
      "outputs": []
    }
  ]
}