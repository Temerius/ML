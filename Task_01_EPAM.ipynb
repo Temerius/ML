{
  "nbformat": 4,
  "nbformat_minor": 0,
  "metadata": {
    "colab": {
      "provenance": [],
      "authorship_tag": "ABX9TyP29zWeQLnXyBWGjMD6x5xr",
      "include_colab_link": true
    },
    "kernelspec": {
      "name": "python3",
      "display_name": "Python 3"
    },
    "language_info": {
      "name": "python"
    }
  },
  "cells": [
    {
      "cell_type": "markdown",
      "metadata": {
        "id": "view-in-github",
        "colab_type": "text"
      },
      "source": [
        "<a href=\"https://colab.research.google.com/github/Temerius/ML/blob/main/Task_01_EPAM.ipynb\" target=\"_parent\"><img src=\"https://colab.research.google.com/assets/colab-badge.svg\" alt=\"Open In Colab\"/></a>"
      ]
    },
    {
      "cell_type": "code",
      "source": [
        "import numpy as np\n",
        "import matplotlib.pyplot as plt\n",
        "from tqdm import tqdm"
      ],
      "metadata": {
        "id": "CAwu-7B0pgHG"
      },
      "execution_count": 348,
      "outputs": []
    },
    {
      "cell_type": "markdown",
      "source": [
        "### L2"
      ],
      "metadata": {
        "id": "sTt4hAs5lUzF"
      }
    },
    {
      "cell_type": "code",
      "execution_count": 351,
      "metadata": {
        "colab": {
          "base_uri": "https://localhost:8080/",
          "height": 466
        },
        "id": "gm7a7zxUlOXk",
        "outputId": "a2d191dd-2ab3-4bd1-9e8b-d0e76efd1a07"
      },
      "outputs": [
        {
          "output_type": "stream",
          "name": "stdout",
          "text": [
            "[ 2.97180702e+02 -5.17081503e+00 -7.99202390e+00 -8.30027539e+00\n",
            " -9.12537483e-01  5.02521181e-01 -5.27106422e-02  1.96112651e-03]\n"
          ]
        },
        {
          "output_type": "display_data",
          "data": {
            "text/plain": [
              "<Figure size 640x480 with 1 Axes>"
            ],
            "image/png": "[encoded data removed]"
          },
          "metadata": {}
        }
      ],
      "source": [
        "x = np.arange(0, 10.1, 0.8)\n",
        "y = np.array([1 * a ** 4 - 10 * a ** 3 - 11 * a ** 2 - 7 * a + 303 for a in x])\n",
        "N = 8\n",
        "A = 2 #if A == 0 - no regularization\n",
        "\n",
        "X = np.array([[a ** n for n in range(N)] for a in x])\n",
        "IA = np.array([[A if i == j else 0 for j in range(N)] for i in range(N)])\n",
        "IA[0][0] = 0\n",
        "X_train = X[::2]\n",
        "Y = y[::2]\n",
        "\n",
        "M = np.linalg.inv(X_train.T @ X_train + IA)\n",
        "w = M @ X_train.T @ Y\n",
        "print(w)\n",
        "\n",
        "yy = [np.dot(w, x) for x in X]\n",
        "plt.plot(x, yy, c='RED')\n",
        "\n",
        "plt.scatter(x, y, c='BLUE')\n",
        "\n",
        "plt.grid(True)\n",
        "plt.show()"
      ]
    },
    {
      "cell_type": "markdown",
      "source": [
        "### L1"
      ],
      "metadata": {
        "id": "4iwRthcAl69M"
      }
    },
    {
      "cell_type": "code",
      "source": [
        "#Hyperparameters\n",
        "N = 8\n",
        "A = 4\n",
        "Eps = 0.00000003\n",
        "epochs = 5000"
      ],
      "metadata": {
        "id": "j8tS9Sv-11DZ"
      },
      "execution_count": 347,
      "outputs": []
    },
    {
      "cell_type": "code",
      "source": [
        "#Creation of dataset\n",
        "x = np.arange(0, 10.1, 0.8)\n",
        "y = np.array([1 * a ** 4 - 10 * a ** 3 - 11 * a ** 2 - 7 * a + 303 for a in x])\n",
        "\n",
        "X = np.array([[a ** n for n in range(N)] for a in x])\n",
        "\n",
        "X_train = X[::2]\n",
        "Y_train = y[::2]\n",
        "X_test = X[1::2]\n",
        "Y_test = y[1::2]"
      ],
      "metadata": {
        "id": "d73-hUhC17X4"
      },
      "execution_count": 294,
      "outputs": []
    },
    {
      "cell_type": "code",
      "source": [
        "def calculate_loss(Y, X, w, a):\n",
        "    return np.sum((Y - X @ w) ** 2) / len(X) + a * np.sum(np.abs(w))"
      ],
      "metadata": {
        "id": "ufbkXZXi2FnH"
      },
      "execution_count": 295,
      "outputs": []
    },
    {
      "cell_type": "code",
      "source": [
        "def update_weights(Y, X, w, a, eps):\n",
        "    #print(np.sign(w))\n",
        "    #print(eps * -X.T @ (Y - X @ w))\n",
        "    return w - eps * (-X.T @ (Y - X @ w) + a * np.sign(w))"
      ],
      "metadata": {
        "id": "UsoQMpOo2VjP"
      },
      "execution_count": 296,
      "outputs": []
    },
    {
      "cell_type": "code",
      "source": [
        "w = np.random.normal(0, 0.5, (N))\n",
        "print(w)\n",
        "w = np.array([-0.07721009,  0.31478874,  0.27540538, -0.96237129, -0.8671762, 0.5745359, -0.20942741, -0.23019736])\n",
        "#w = np.array([0.18102716, 0.25708428])\n",
        "#w = np.array[0.9317948, 0.54703829, -0.65366984, -0.36564025,  0.37724835]"
      ],
      "metadata": {
        "colab": {
          "base_uri": "https://localhost:8080/"
        },
        "id": "zB1nw09zBPVy",
        "outputId": "a3c8d63c-9934-430a-8193-081ab089a5fb"
      },
      "execution_count": 297,
      "outputs": [
        {
          "output_type": "stream",
          "name": "stdout",
          "text": [
            "[ 0.05092786 -0.00759786  0.28034059  0.54308974 -0.42923917 -0.13843649\n",
            " -0.42760888  0.34201025]\n"
          ]
        }
      ]
    },
    {
      "cell_type": "code",
      "source": [
        "train_loss_arr = []\n",
        "test_loss_arr = []\n",
        "for _ in tqdm(range(epochs)):\n",
        "    test_loss = calculate_loss(Y_train, X_train, w, A)\n",
        "    train_loss = calculate_loss(Y_test, X_test, w, A)\n",
        "\n",
        "    test_loss_arr.append(test_loss)\n",
        "    train_loss_arr.append(train_loss)\n",
        "\n",
        "    w = update_weights(Y_train, X_train, w, A, Eps)\n",
        "\n",
        "print(f'w:{w}')\n",
        "\n",
        "plt.plot(range(epochs), train_loss_arr)\n",
        "plt.show()\n",
        "'''\n",
        "yy = [np.dot(w, x) for x in X[1::2]]\n",
        "#plt.plot(x[1::2], yy, c='RED')\n",
        "yyy = [np.dot(w, x) for x in X_train]\n",
        "plt.plot(x[::2], yyy, c='MAGENTA')\n",
        "'''\n",
        "yyyy = [np.dot(w, x) for x in X]\n",
        "plt.plot(x, yyyy, c='RED')\n",
        "\n",
        "#plt.plot(x[::2], Y_train, c='GREEN')\n",
        "plt.scatter(x,y, c='BLUE')\n",
        "plt.grid(True)\n",
        "plt.show()\n"
      ],
      "metadata": {
        "colab": {
          "base_uri": "https://localhost:8080/",
          "height": 918
        },
        "id": "VbQLTLC3yHli",
        "outputId": "0aeb1306-5d02-451e-835a-a820f61fac49"
      },
      "execution_count": 349,
      "outputs": [
        {
          "output_type": "stream",
          "name": "stderr",
          "text": [
            "100%|██████████| 50000000/50000000 [36:56<00:00, 22556.24it/s]\n"
          ]
        },
        {
          "output_type": "stream",
          "name": "stdout",
          "text": [
            "w:[-0.07568867  0.31284056  0.26101566 -1.03187411 -1.12822701 -0.0518153\n",
            "  0.03526111 -0.00186781]\n"
          ]
        },
        {
          "output_type": "display_data",
          "data": {
            "text/plain": [
              "<Figure size 640x480 with 1 Axes>"
            ],
            "image/png": "[encoded data removed]"
          },
          "metadata": {}
        },
        {
          "output_type": "display_data",
          "data": {
            "text/plain": [
              "<Figure size 640x480 with 1 Axes>"
            ],
            "image/png": "[encoded data removed]"
          },
          "metadata": {}
        }
      ]
    },
    {
      "cell_type": "markdown",
      "source": [
        "### Probability"
      ],
      "metadata": {
        "id": "xzDat_gUDfk9"
      }
    },
    {
      "cell_type": "code",
      "source": [
        "import random\n",
        "from tqdm import tqdm\n",
        "epochs = 100000000\n",
        "l = 100002\n",
        "\n",
        "count = 0\n",
        "for _ in tqdm(range(epochs)):\n",
        "    a = random.randint(0, l)\n",
        "    b = random.randint(0, l)\n",
        "    if a > b: a, b = b, a\n",
        "\n",
        "    if b-a >= l // 3:\n",
        "        count += 1\n",
        "\n",
        "print(f'Probability = {count/epochs}')"
      ],
      "metadata": {
        "colab": {
          "base_uri": "https://localhost:8080/"
        },
        "id": "EbRODf68_pnY",
        "outputId": "f22ac483-32ee-40a3-c53e-0f1b858a39ee"
      },
      "execution_count": null,
      "outputs": [
        {
          "output_type": "stream",
          "name": "stderr",
          "text": [
            "100%|██████████| 100000000/100000000 [04:50<00:00, 343947.67it/s]"
          ]
        },
        {
          "output_type": "stream",
          "name": "stdout",
          "text": [
            "Probability = 0.44446561\n"
          ]
        },
        {
          "output_type": "stream",
          "name": "stderr",
          "text": [
            "\n"
          ]
        }
      ]
    },
    {
      "cell_type": "markdown",
      "source": [
        "### Python"
      ],
      "metadata": {
        "id": "t6trrhZCDjir"
      }
    },
    {
      "cell_type": "code",
      "source": [
        "class A():\n",
        "    pass\n",
        "\n",
        "obj1 = A()\n",
        "obj2 = A()"
      ],
      "metadata": {
        "id": "FnMRXbr-Dnxh"
      },
      "execution_count": 2,
      "outputs": []
    },
    {
      "cell_type": "code",
      "source": [
        "print(f'object1 id = {id(obj1)}, \\nobject2 id = {id(obj2)}')\n",
        "print(f'object1 equals object2 {obj1 == obj2}, \\nhash object1 equals hash object2 {hash(obj1) == hash(obj2)}')"
      ],
      "metadata": {
        "colab": {
          "base_uri": "https://localhost:8080/"
        },
        "id": "_linYL-vD1Kl",
        "outputId": "6b04ae68-37d8-4b0d-87e2-72a9030aac97"
      },
      "execution_count": 10,
      "outputs": [
        {
          "output_type": "stream",
          "name": "stdout",
          "text": [
            "object1 id = 137125920211632, \n",
            "object2 id = 137125920215136\n",
            "object1 equals object2 False, \n",
            "hash object1 equals hash object2 False\n"
          ]
        }
      ]
    },
    {
      "cell_type": "code",
      "source": [
        "print(f'hash object1 using hash function = {hash(obj1)}')\n",
        "print(f'id object1 // 16 = {id(obj1) // 16}')"
      ],
      "metadata": {
        "colab": {
          "base_uri": "https://localhost:8080/"
        },
        "id": "fjSBE4YAD7Qn",
        "outputId": "0d8a8e67-4a94-4339-ecf5-7e93961aade0"
      },
      "execution_count": 12,
      "outputs": [
        {
          "output_type": "stream",
          "name": "stdout",
          "text": [
            "hash object1 using hash function = 8570370013227\n",
            "id object1 // 16 = 8570370013227\n"
          ]
        }
      ]
    },
    {
      "cell_type": "code",
      "source": [
        "class B():\n",
        "    def __hash__(self):\n",
        "        print(f'execute __hash__')\n",
        "        return 4\n",
        "\n",
        "    def __eq__(self, other):\n",
        "        print(f'execute __eq__')\n",
        "        return True\n",
        "\n",
        "obj1 = B()\n",
        "obj2 = B()"
      ],
      "metadata": {
        "id": "4GiCo86HKjVB"
      },
      "execution_count": 22,
      "outputs": []
    },
    {
      "cell_type": "code",
      "source": [
        "print(f'object1 id = {id(obj1)}, \\nobject2 id = {id(obj2)}')\n",
        "print(f'object1 equals object2 {obj1 == obj2}, \\nhash object1 equals hash object2 {hash(obj1) == hash(obj2)}')"
      ],
      "metadata": {
        "colab": {
          "base_uri": "https://localhost:8080/"
        },
        "id": "mY3xLhS6LC9f",
        "outputId": "d7248cb7-5ec1-41bc-c10d-06288cc76527"
      },
      "execution_count": 23,
      "outputs": [
        {
          "output_type": "stream",
          "name": "stdout",
          "text": [
            "object1 id = 137125068258176, \n",
            "object2 id = 137125068252752\n",
            "execute __eq__\n",
            "execute __hash__\n",
            "execute __hash__\n",
            "object1 equals object2 True, \n",
            "hash object1 equals hash object2 True\n"
          ]
        }
      ]
    },
    {
      "cell_type": "code",
      "source": [
        "d = {}\n",
        "d[obj1] = 'object1'\n",
        "print(d[obj2])\n",
        "print('-------------')\n",
        "obj2.data = 5\n",
        "print(d[obj2])"
      ],
      "metadata": {
        "colab": {
          "base_uri": "https://localhost:8080/"
        },
        "id": "ve2rlny4L7VL",
        "outputId": "42da3a70-a5d6-44bb-ca98-c4c6eaf4cac1"
      },
      "execution_count": 26,
      "outputs": [
        {
          "output_type": "stream",
          "name": "stdout",
          "text": [
            "execute __hash__\n",
            "execute __hash__\n",
            "execute __eq__\n",
            "object1\n",
            "-------------\n",
            "execute __hash__\n",
            "execute __eq__\n",
            "object1\n"
          ]
        }
      ]
    },
    {
      "cell_type": "code",
      "source": [
        "class C():\n",
        "    def __hash__(self):\n",
        "        print(f'execute __hash__')\n",
        "        return 4\n",
        "\n",
        "    def __eq__(self, other):\n",
        "        print(f'execute __eq__')\n",
        "        return False\n",
        "\n",
        "obj1 = C()\n",
        "obj2 = C()"
      ],
      "metadata": {
        "id": "W5BYyUjAI8tN"
      },
      "execution_count": 27,
      "outputs": []
    },
    {
      "cell_type": "code",
      "source": [
        "d = {}\n",
        "d[obj1] = 'object1'\n",
        "d[obj2]"
      ],
      "metadata": {
        "colab": {
          "base_uri": "https://localhost:8080/",
          "height": 233
        },
        "id": "XPcXtzpxPpwB",
        "outputId": "aa9cf2ef-3f45-4c36-fa1e-58f297785420"
      },
      "execution_count": 29,
      "outputs": [
        {
          "output_type": "stream",
          "name": "stdout",
          "text": [
            "execute __hash__\n",
            "execute __hash__\n",
            "execute __eq__\n"
          ]
        },
        {
          "output_type": "error",
          "ename": "KeyError",
          "evalue": "<__main__.C object at 0x7cb6eafbada0>",
          "traceback": [
            "\u001b[0;31m---------------------------------------------------------------------------\u001b[0m",
            "\u001b[0;31mKeyError\u001b[0m                                  Traceback (most recent call last)",
            "\u001b[0;32m<ipython-input-29-a45a15d940a5>\u001b[0m in \u001b[0;36m<cell line: 3>\u001b[0;34m()\u001b[0m\n\u001b[1;32m      1\u001b[0m \u001b[0md\u001b[0m \u001b[0;34m=\u001b[0m \u001b[0;34m{\u001b[0m\u001b[0;34m}\u001b[0m\u001b[0;34m\u001b[0m\u001b[0;34m\u001b[0m\u001b[0m\n\u001b[1;32m      2\u001b[0m \u001b[0md\u001b[0m\u001b[0;34m[\u001b[0m\u001b[0mobj1\u001b[0m\u001b[0;34m]\u001b[0m \u001b[0;34m=\u001b[0m \u001b[0;34m'object1'\u001b[0m\u001b[0;34m\u001b[0m\u001b[0;34m\u001b[0m\u001b[0m\n\u001b[0;32m----> 3\u001b[0;31m \u001b[0md\u001b[0m\u001b[0;34m[\u001b[0m\u001b[0mobj2\u001b[0m\u001b[0;34m]\u001b[0m\u001b[0;34m\u001b[0m\u001b[0;34m\u001b[0m\u001b[0m\n\u001b[0m",
            "\u001b[0;31mKeyError\u001b[0m: <__main__.C object at 0x7cb6eafbada0>"
          ]
        }
      ]
    },
    {
      "cell_type": "code",
      "source": [
        "class Worker():\n",
        "    def __init__(self, salary, age, name):\n",
        "        self.salary = salary\n",
        "        self.age = age\n",
        "        self.name = name\n",
        "\n",
        "    def __hash__(self):\n",
        "        print(f'execute __hash__')\n",
        "        return hash((self.salary, self.age))\n",
        "\n",
        "    def __eq__(self, other):\n",
        "        print(f'execute __eq__')\n",
        "        return self.name == other.name\n",
        "\n",
        "worker1 = Worker(salary=5, age=21, name='Qwerty')\n",
        "worker2 = Worker(salary=6, age=21, name='Asdfg')"
      ],
      "metadata": {
        "id": "RpKU9riPPsm6"
      },
      "execution_count": 45,
      "outputs": []
    },
    {
      "cell_type": "code",
      "source": [
        "workers_dict = {}\n",
        "workers_dict[worker1] = 'school'\n",
        "workers_dict[worker2] = 'office'\n",
        "workers_dict"
      ],
      "metadata": {
        "colab": {
          "base_uri": "https://localhost:8080/"
        },
        "id": "WKJ_JIRCSYgT",
        "outputId": "6da3e229-2012-4ec0-c532-59418a0bf66c"
      },
      "execution_count": 46,
      "outputs": [
        {
          "output_type": "stream",
          "name": "stdout",
          "text": [
            "execute __hash__\n",
            "execute __hash__\n",
            "execute __hash__\n",
            "execute __hash__\n"
          ]
        },
        {
          "output_type": "execute_result",
          "data": {
            "text/plain": [
              "{<__main__.Worker at 0x7cb6eae71bd0>: 'school',\n",
              " <__main__.Worker at 0x7cb6eae705e0>: 'office'}"
            ]
          },
          "metadata": {},
          "execution_count": 46
        }
      ]
    },
    {
      "cell_type": "code",
      "source": [
        "worker1.salary = 6\n",
        "workers_dict = {}\n",
        "workers_dict[worker1] = 'school'\n",
        "workers_dict[worker2] = 'office'\n",
        "print('-----------------')\n",
        "workers_dict"
      ],
      "metadata": {
        "colab": {
          "base_uri": "https://localhost:8080/"
        },
        "id": "iZjf1FwESvea",
        "outputId": "3bbfd757-1660-4508-d5f1-ab9870afb0c7"
      },
      "execution_count": 47,
      "outputs": [
        {
          "output_type": "stream",
          "name": "stdout",
          "text": [
            "execute __hash__\n",
            "execute __hash__\n",
            "execute __eq__\n",
            "-----------------\n",
            "execute __hash__\n",
            "execute __hash__\n",
            "execute __eq__\n"
          ]
        },
        {
          "output_type": "execute_result",
          "data": {
            "text/plain": [
              "{<__main__.Worker at 0x7cb6eae71bd0>: 'school',\n",
              " <__main__.Worker at 0x7cb6eae705e0>: 'office'}"
            ]
          },
          "metadata": {},
          "execution_count": 47
        }
      ]
    },
    {
      "cell_type": "code",
      "source": [
        "worker2.name = worker1.name\n",
        "workers_dict = {}\n",
        "workers_dict[worker1] = 'school'\n",
        "workers_dict[worker2] = 'office'\n",
        "print('---------------')\n",
        "workers_dict"
      ],
      "metadata": {
        "colab": {
          "base_uri": "https://localhost:8080/"
        },
        "id": "sL5w1lH0TEzv",
        "outputId": "d0a1f010-8270-42b0-eb8c-769f83a45c08"
      },
      "execution_count": 48,
      "outputs": [
        {
          "output_type": "stream",
          "name": "stdout",
          "text": [
            "execute __hash__\n",
            "execute __hash__\n",
            "execute __eq__\n",
            "---------------\n",
            "execute __hash__\n"
          ]
        },
        {
          "output_type": "execute_result",
          "data": {
            "text/plain": [
              "{<__main__.Worker at 0x7cb6eae71bd0>: 'office'}"
            ]
          },
          "metadata": {},
          "execution_count": 48
        }
      ]
    },
    {
      "cell_type": "code",
      "source": [],
      "metadata": {
        "id": "s18c-oKVTqiT"
      },
      "execution_count": null,
      "outputs": []
    }
  ]
}